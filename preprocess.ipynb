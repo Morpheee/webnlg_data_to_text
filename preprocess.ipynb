{
 "cells": [
  {
   "cell_type": "code",
   "execution_count": 1,
   "metadata": {
    "collapsed": true
   },
   "outputs": [],
   "source": [
    "import xml.etree.ElementTree as ET\n",
    "import pandas as pd\n",
    "import os\n",
    "import re"
   ]
  },
  {
   "cell_type": "code",
   "execution_count": 2,
   "outputs": [],
   "source": [
    "path_data = \"./webnlg-dataset-master-release_v3.0/en/\""
   ],
   "metadata": {
    "collapsed": false,
    "pycharm": {
     "name": "#%%\n"
    }
   }
  },
  {
   "cell_type": "code",
   "execution_count": 11,
   "outputs": [
    {
     "name": "stdout",
     "output_type": "stream",
     "text": [
      "set : train\n",
      "\t1/7                     \n",
      "\t2/7                     \n",
      "\t3/7                     \n",
      "\t4/7                     \n",
      "\t5/7                     \n",
      "\t6/7                     \n",
      "\t7/7                     \n",
      "DataFrame ./webnlg-dataset-master-release_v3.0/en/train.csv saved.\n",
      "set : dev\n",
      "\t1/7                     \n",
      "\t2/7                     \n",
      "\t3/7                     \n",
      "\t4/7                     \n",
      "\t5/7                     \n",
      "\t6/7                     \n",
      "\t7/7                     \n",
      "DataFrame ./webnlg-dataset-master-release_v3.0/en/dev.csv saved.\n"
     ]
    }
   ],
   "source": [
    "for set in os.listdir(path_data):\n",
    "    if set == \"test\" or not os.path.isdir(os.path.join(path_data, set)):\n",
    "        continue\n",
    "    print(\"set :\", set)\n",
    "    df = pd.DataFrame(columns=[\"RDF\", \"sequence\"])\n",
    "    path_set = os.path.join(path_data, set)\n",
    "    count_1 = 0\n",
    "    total_count_1 = len(os.listdir(path_set))\n",
    "    for ktriples in os.listdir(path_set):\n",
    "        count_1 += 1\n",
    "        print(\"\\t{}/{}\".format(count_1, total_count_1).ljust(25))\n",
    "        path_ktriple = os.path.join(path_set, ktriples)\n",
    "        count_2 = 0\n",
    "        total_count_2 = len(os.listdir(path_ktriple))\n",
    "        for file in os.listdir(path_ktriple):\n",
    "            tree = ET.parse(os.path.join(path_ktriple, file))\n",
    "            root = tree.getroot()\n",
    "            for entry in root[0]:\n",
    "                # print(\"-\"*10,\"new entry\",\"-\"*10)\n",
    "                triple_all = \"\"\n",
    "                for modifiedtripletset in entry.findall(\"modifiedtripleset\"):\n",
    "                    for mtriple in modifiedtripletset.findall(\"mtriple\"):\n",
    "                        triple = mtriple.text\n",
    "                        triple = \"<S> \" + triple\n",
    "                        triple = triple.replace(\"|\", \"<P>\", 1)\n",
    "                        triple = triple.replace(\"|\", \"<O>\", 1)\n",
    "                        triple = triple.replace('\"', \"\")\n",
    "                        triple = triple.replace(\"_\", \"\")\n",
    "                        triple = re.sub(r\"\\s+\", \" \", triple)\n",
    "                        for letters in re.findall(r\"[a-z][A-Z][a-z]\", triple):\n",
    "                            triple = re.sub(r\"[a-z][A-Z][a-z]\", letters[0] + \" \" + letters[1:], triple)\n",
    "                        triple_all += triple + \" \"\n",
    "                    # print(triple_all)\n",
    "                for lex in entry.findall(\"lex\"):\n",
    "                    seq = lex.text\n",
    "                    # print(lex.text)\n",
    "                    seq = seq.replace('\"', \"\")\n",
    "                    seq = seq.replace(\"_\", \"\")\n",
    "                    seq = re.sub(r\"\\s+\", \" \", seq)\n",
    "                    df.loc[len(df)] = [triple_all, seq]\n",
    "            count_2 += 1\n",
    "            print(\"\\t\\t{:.2f}%\".format(count_2 / total_count_2 * 100), end=\"\\r\")\n",
    "    df.to_csv(path_set + \".csv\", index=False)\n",
    "    print(\"DataFrame {} saved.\".format(path_set + \".csv\"))"
   ],
   "metadata": {
    "collapsed": false,
    "pycharm": {
     "name": "#%%\n"
    }
   }
  },
  {
   "cell_type": "code",
   "execution_count": 12,
   "outputs": [
    {
     "data": {
      "text/plain": "                                                  RDF  \\\n0   <S> Ajoblanco <P> alternative Name <O> Ajo bla...   \n1   <S> Ajoblanco <P> alternative Name <O> Ajo bla...   \n2   <S> Ajoblanco <P> alternative Name <O> Ajo bla...   \n3   <S> Ajoblanco <P> main Ingredient <O> Bread, a...   \n4   <S> Ajoblanco <P> main Ingredient <O> Bread, a...   \n5   <S> Ajoblanco <P> main Ingredient <O> Bread, a...   \n6   <S> Arem-arem <P> region <O> Nationwide in Ind...   \n7   <S> Arem-arem <P> region <O> Nationwide in Ind...   \n8             <S> Arem-arem <P> region <O> Indonesia    \n9   <S> Arrabbiatasauce <P> main Ingredient <O> To...   \n10  <S> Arrabbiatasauce <P> main Ingredient <O> To...   \n11      <S> Arròsnegre <P> ingredient <O> Cuttlefish    \n12      <S> Arròsnegre <P> ingredient <O> Cuttlefish    \n13           <S> Arròsnegre <P> ingredient <O> Squid    \n14            <S> Asampedas <P> country <O> Malaysia    \n\n                                             sequence  \n0   The alternative name for Ajoblanco is Ajo blanco.  \n1     Ajo blanco is an alternative name to Ajoblanco.  \n2     Ajo blanco is an alternative name of Ajoblanco.  \n3   The main ingredients in ajoblanco are bread, a...  \n4   Bread, almonds, garlic, water, and olive oil a...  \n5   The main ingredients of Ajoblanco are bread, a...  \n6   Arem-arem is found nationwide in Indonesia, bu...  \n7   Arem-arem is nationwide in Indonesia, but more...  \n8                     Arem arem comes from Indonesia.  \n9   Arrabbiata sauce is made with tomatoes, red ch...  \n10  The main ingredients in Arrabbiata sauce are T...  \n11        Cuttlefish is an ingredient in Arros negre.  \n12  Cuttlefish is an ingredient of the dish Arròs ...  \n13             Squid is an ingredient of Arros negre.  \n14            Asam pedas is a food found in Malaysia.  ",
      "text/html": "<div>\n<style scoped>\n    .dataframe tbody tr th:only-of-type {\n        vertical-align: middle;\n    }\n\n    .dataframe tbody tr th {\n        vertical-align: top;\n    }\n\n    .dataframe thead th {\n        text-align: right;\n    }\n</style>\n<table border=\"1\" class=\"dataframe\">\n  <thead>\n    <tr style=\"text-align: right;\">\n      <th></th>\n      <th>RDF</th>\n      <th>sequence</th>\n    </tr>\n  </thead>\n  <tbody>\n    <tr>\n      <th>0</th>\n      <td>&lt;S&gt; Ajoblanco &lt;P&gt; alternative Name &lt;O&gt; Ajo bla...</td>\n      <td>The alternative name for Ajoblanco is Ajo blanco.</td>\n    </tr>\n    <tr>\n      <th>1</th>\n      <td>&lt;S&gt; Ajoblanco &lt;P&gt; alternative Name &lt;O&gt; Ajo bla...</td>\n      <td>Ajo blanco is an alternative name to Ajoblanco.</td>\n    </tr>\n    <tr>\n      <th>2</th>\n      <td>&lt;S&gt; Ajoblanco &lt;P&gt; alternative Name &lt;O&gt; Ajo bla...</td>\n      <td>Ajo blanco is an alternative name of Ajoblanco.</td>\n    </tr>\n    <tr>\n      <th>3</th>\n      <td>&lt;S&gt; Ajoblanco &lt;P&gt; main Ingredient &lt;O&gt; Bread, a...</td>\n      <td>The main ingredients in ajoblanco are bread, a...</td>\n    </tr>\n    <tr>\n      <th>4</th>\n      <td>&lt;S&gt; Ajoblanco &lt;P&gt; main Ingredient &lt;O&gt; Bread, a...</td>\n      <td>Bread, almonds, garlic, water, and olive oil a...</td>\n    </tr>\n    <tr>\n      <th>5</th>\n      <td>&lt;S&gt; Ajoblanco &lt;P&gt; main Ingredient &lt;O&gt; Bread, a...</td>\n      <td>The main ingredients of Ajoblanco are bread, a...</td>\n    </tr>\n    <tr>\n      <th>6</th>\n      <td>&lt;S&gt; Arem-arem &lt;P&gt; region &lt;O&gt; Nationwide in Ind...</td>\n      <td>Arem-arem is found nationwide in Indonesia, bu...</td>\n    </tr>\n    <tr>\n      <th>7</th>\n      <td>&lt;S&gt; Arem-arem &lt;P&gt; region &lt;O&gt; Nationwide in Ind...</td>\n      <td>Arem-arem is nationwide in Indonesia, but more...</td>\n    </tr>\n    <tr>\n      <th>8</th>\n      <td>&lt;S&gt; Arem-arem &lt;P&gt; region &lt;O&gt; Indonesia</td>\n      <td>Arem arem comes from Indonesia.</td>\n    </tr>\n    <tr>\n      <th>9</th>\n      <td>&lt;S&gt; Arrabbiatasauce &lt;P&gt; main Ingredient &lt;O&gt; To...</td>\n      <td>Arrabbiata sauce is made with tomatoes, red ch...</td>\n    </tr>\n    <tr>\n      <th>10</th>\n      <td>&lt;S&gt; Arrabbiatasauce &lt;P&gt; main Ingredient &lt;O&gt; To...</td>\n      <td>The main ingredients in Arrabbiata sauce are T...</td>\n    </tr>\n    <tr>\n      <th>11</th>\n      <td>&lt;S&gt; Arròsnegre &lt;P&gt; ingredient &lt;O&gt; Cuttlefish</td>\n      <td>Cuttlefish is an ingredient in Arros negre.</td>\n    </tr>\n    <tr>\n      <th>12</th>\n      <td>&lt;S&gt; Arròsnegre &lt;P&gt; ingredient &lt;O&gt; Cuttlefish</td>\n      <td>Cuttlefish is an ingredient of the dish Arròs ...</td>\n    </tr>\n    <tr>\n      <th>13</th>\n      <td>&lt;S&gt; Arròsnegre &lt;P&gt; ingredient &lt;O&gt; Squid</td>\n      <td>Squid is an ingredient of Arros negre.</td>\n    </tr>\n    <tr>\n      <th>14</th>\n      <td>&lt;S&gt; Asampedas &lt;P&gt; country &lt;O&gt; Malaysia</td>\n      <td>Asam pedas is a food found in Malaysia.</td>\n    </tr>\n  </tbody>\n</table>\n</div>"
     },
     "execution_count": 12,
     "metadata": {},
     "output_type": "execute_result"
    }
   ],
   "source": [
    "df.head(15)"
   ],
   "metadata": {
    "collapsed": false,
    "pycharm": {
     "name": "#%%\n"
    }
   }
  },
  {
   "cell_type": "code",
   "execution_count": null,
   "outputs": [],
   "source": [],
   "metadata": {
    "collapsed": false,
    "pycharm": {
     "name": "#%%\n"
    }
   }
  }
 ],
 "metadata": {
  "kernelspec": {
   "display_name": "Python 3",
   "language": "python",
   "name": "python3"
  },
  "language_info": {
   "codemirror_mode": {
    "name": "ipython",
    "version": 2
   },
   "file_extension": ".py",
   "mimetype": "text/x-python",
   "name": "python",
   "nbconvert_exporter": "python",
   "pygments_lexer": "ipython2",
   "version": "2.7.6"
  }
 },
 "nbformat": 4,
 "nbformat_minor": 0
}